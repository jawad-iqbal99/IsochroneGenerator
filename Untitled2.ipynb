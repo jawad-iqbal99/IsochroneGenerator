{
 "cells": [
  {
   "cell_type": "code",
   "execution_count": 7,
   "id": "27752b1d-4593-4248-b6f1-3bc185c6a8f3",
   "metadata": {},
   "outputs": [],
   "source": [
    "from isochrone_generator import IsochroneGenerator"
   ]
  },
  {
   "cell_type": "code",
   "execution_count": 5,
   "id": "09dce3a3-c2d7-4f23-b993-b36a01fc7679",
   "metadata": {},
   "outputs": [],
   "source": [
    "generator = IsochroneGenerator(place_name = 'Taunton, UK')"
   ]
  },
  {
   "cell_type": "code",
   "execution_count": 5,
   "id": "141c2190-5710-4164-8f67-3d5d3618026c",
   "metadata": {},
   "outputs": [
    {
     "data": {
      "text/plain": [
       "<networkx.classes.multidigraph.MultiDiGraph at 0x20a56ea42c0>"
      ]
     },
     "execution_count": 5,
     "metadata": {},
     "output_type": "execute_result"
    }
   ],
   "source": [
    "generator.G"
   ]
  },
  {
   "cell_type": "code",
   "execution_count": 11,
   "id": "3acbc766-3469-4df8-97e7-0b35e852ed2e",
   "metadata": {},
   "outputs": [],
   "source": [
    "isochrone = generator.generate_isochrone('Musgrove Park Hospital', 51.02140722515031, -3.09822625278159, 2)\n"
   ]
  },
  {
   "cell_type": "code",
   "execution_count": 13,
   "id": "f0f7d298-aa62-49e3-88e7-32568347ac01",
   "metadata": {},
   "outputs": [
    {
     "data": {
      "image/svg+xml": [
       "<svg xmlns=\"http://www.w3.org/2000/svg\" xmlns:xlink=\"http://www.w3.org/1999/xlink\" width=\"100.0\" height=\"100.0\" viewBox=\"-3.1170495359999997 51.011787063999996 0.031072571999999354 0.019865972000005172\" preserveAspectRatio=\"xMinYMin meet\"><g transform=\"matrix(1,0,0,-1,0,102.0434401)\"><path fill-rule=\"evenodd\" fill=\"#66cc99\" stroke=\"#555555\" stroke-width=\"0.000621451439999987\" opacity=\"0.6\" d=\"M -3.1101212,51.028711 L -3.1085151,51.0301535 L -3.1078191,51.0305022 L -3.1004489,51.0294479 L -3.0987608,51.0286418 L -3.0956191,51.0266634 L -3.0871278,51.0226294 L -3.0878982,51.0215949 L -3.0944531,51.0163467 L -3.0962802,51.015607 L -3.0966963,51.0154434 L -3.0976867,51.0151172 L -3.104823,51.0130856 L -3.1057569,51.0129379 L -3.1087163,51.0130613 L -3.1124211,51.0142376 L -3.1158987,51.0211878 L -3.1158415,51.021787 L -3.1125839,51.0266302 L -3.1101212,51.028711 z\" /></g></svg>"
      ],
      "text/plain": [
       "<POLYGON ((-3.11 51.029, -3.109 51.03, -3.108 51.031, -3.1 51.029, -3.099 51...>"
      ]
     },
     "execution_count": 13,
     "metadata": {},
     "output_type": "execute_result"
    }
   ],
   "source": [
    "isochrone"
   ]
  },
  {
   "cell_type": "code",
   "execution_count": 9,
   "id": "056a0a33-3db7-49cd-ba25-f8ccf0bc7d17",
   "metadata": {},
   "outputs": [],
   "source": [
    "path = generator.generate_shortest_paths('iso1')"
   ]
  },
  {
   "cell_type": "code",
   "execution_count": 13,
   "id": "71fd5f84-a8bf-4db4-8c60-6f83b8f6bfdb",
   "metadata": {},
   "outputs": [],
   "source": [
    "road_network = generator.generate_road_network('iso1')"
   ]
  },
  {
   "cell_type": "code",
   "execution_count": 17,
   "id": "910145f0-c6ed-4da6-8726-5f48918ec300",
   "metadata": {},
   "outputs": [
    {
     "ename": "AttributeError",
     "evalue": "'IsochroneGenerator' object has no attribute 'generator_boundary'",
     "output_type": "error",
     "traceback": [
      "\u001b[1;31m---------------------------------------------------------------------------\u001b[0m",
      "\u001b[1;31mAttributeError\u001b[0m                            Traceback (most recent call last)",
      "Cell \u001b[1;32mIn[17], line 1\u001b[0m\n\u001b[1;32m----> 1\u001b[0m boundary \u001b[38;5;241m=\u001b[39m \u001b[43mgenerator\u001b[49m\u001b[38;5;241;43m.\u001b[39;49m\u001b[43mgenerator_boundary\u001b[49m(\u001b[38;5;124m'\u001b[39m\u001b[38;5;124mSomerset, UK\u001b[39m\u001b[38;5;124m'\u001b[39m)\n",
      "\u001b[1;31mAttributeError\u001b[0m: 'IsochroneGenerator' object has no attribute 'generator_boundary'"
     ]
    }
   ],
   "source": [
    "boundary = generator.generator_boundary('Somerset, UK')"
   ]
  },
  {
   "cell_type": "code",
   "execution_count": 7,
   "id": "e73ac235-849a-4a2a-8e0b-15a3a57a94e3",
   "metadata": {},
   "outputs": [],
   "source": [
    "generator.save_graph(filename = 'Taunton_UK_drive.graphml')"
   ]
  },
  {
   "cell_type": "code",
   "execution_count": 7,
   "id": "d264b138-bd3c-43aa-869b-b37420afbcd8",
   "metadata": {},
   "outputs": [],
   "source": [
    "# Initialize the IsochroneGenerator with a place name (e.g., 'Somerset, UK')\n",
    "generator = IsochroneGenerator(place_name='Taunton, UK', network_type = 'walk', default_speed = 40)"
   ]
  },
  {
   "cell_type": "code",
   "execution_count": 3,
   "id": "ccfaa99a-86a0-4c5a-a88d-fb795530432e",
   "metadata": {},
   "outputs": [
    {
     "data": {
      "text/html": [
       "\n",
       "        <iframe\n",
       "            width=\"100%\"\n",
       "            height=\"650\"\n",
       "            src=\"http://127.0.0.1:8052/\"\n",
       "            frameborder=\"0\"\n",
       "            allowfullscreen\n",
       "            \n",
       "        ></iframe>\n",
       "        "
      ],
      "text/plain": [
       "<IPython.lib.display.IFrame at 0x2b5cb8efb60>"
      ]
     },
     "metadata": {},
     "output_type": "display_data"
    }
   ],
   "source": [
    "from dash import Dash, dcc, html, Input, Output, State, callback\n",
    "import base64\n",
    "import io\n",
    "import networkx as nx\n",
    "import osmnx as ox\n",
    "\n",
    "from isochrone_generator import IsochroneGenerator\n",
    "\n",
    "# Initialize the Dash app\n",
    "app = Dash(__name__)\n",
    "\n",
    "# Dictionary to store uploaded graphs\n",
    "uploaded_graphs = {}\n",
    "generator = None\n",
    "app.layout = html.Div([\n",
    "    dcc.Upload(\n",
    "        id='upload-data',\n",
    "        children=html.Div([\n",
    "            'Drag and Drop or ',\n",
    "            html.A('Select Files')\n",
    "        ]),\n",
    "        style={\n",
    "            'width': '100%',\n",
    "            'height': '60px',\n",
    "            'lineHeight': '60px',\n",
    "            'borderWidth': '1px',\n",
    "            'borderStyle': 'dashed',\n",
    "            'borderRadius': '5px',\n",
    "            'textAlign': 'center',\n",
    "            'margin': '10px'\n",
    "        },\n",
    "        multiple=False  # Allow multiple files to be uploaded\n",
    "    ),\n",
    "    html.Div(id='output-data-upload'),\n",
    "    html.Div(html.Button())\n",
    "])\n",
    "\n",
    "# Callback to handle file uploads and display the result\n",
    "@callback(Output('output-data-upload', 'children'),\n",
    "          Input('upload-data', 'contents'),\n",
    "          State('upload-data', 'filename'))\n",
    "def update_output(list_of_contents, list_of_names):\n",
    "    if list_of_contents is not None:\n",
    "        children = []\n",
    "        try:\n",
    "            # Decode the file content from base64\n",
    "            content_type, content_string = list_of_contents.split(',')\n",
    "            decoded = base64.b64decode(content_string)\n",
    "\n",
    "            # Use BytesIO to simulate a file-like object and load the graph\n",
    "            graph_data = io.BytesIO(decoded)\n",
    "            G = nx.read_graphml(graph_data)\n",
    "            \n",
    "            generator = IsochroneGenerator(graph=G)\n",
    "\n",
    "            #iso = generator.generate_isochrone('iso', 51.02313487537889, -3.0999428665695925, '5')\n",
    "                \n",
    "            children.append(html.Div([f\"File {G} uploaded and loaded successfully!\"]))\n",
    "        except Exception as e:\n",
    "            children.append(html.Div([f\"Error loading {list_of_names}: {str(e)}\"]))\n",
    "\n",
    "        return children\n",
    "    else:\n",
    "        return \"No file uploaded yet.\"\n",
    "\n",
    "if __name__ == '__main__':\n",
    "    app.run(debug=True, port=8052)\n"
   ]
  },
  {
   "cell_type": "code",
   "execution_count": 11,
   "id": "b06b7803-6f6b-4102-92b4-c0c3c8a454e2",
   "metadata": {},
   "outputs": [
    {
     "data": {
      "text/plain": [
       "[]"
      ]
     },
     "execution_count": 11,
     "metadata": {},
     "output_type": "execute_result"
    }
   ],
   "source": [
    "dict"
   ]
  },
  {
   "cell_type": "code",
   "execution_count": null,
   "id": "04ef3074-3040-45ee-8f6d-2cac6cac02f2",
   "metadata": {},
   "outputs": [],
   "source": []
  }
 ],
 "metadata": {
  "kernelspec": {
   "display_name": "Python 3 (ipykernel)",
   "language": "python",
   "name": "python3"
  },
  "language_info": {
   "codemirror_mode": {
    "name": "ipython",
    "version": 3
   },
   "file_extension": ".py",
   "mimetype": "text/x-python",
   "name": "python",
   "nbconvert_exporter": "python",
   "pygments_lexer": "ipython3",
   "version": "3.12.4"
  }
 },
 "nbformat": 4,
 "nbformat_minor": 5
}
